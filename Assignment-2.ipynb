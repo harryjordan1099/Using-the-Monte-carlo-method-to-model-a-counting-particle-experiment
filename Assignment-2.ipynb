{
 "cells": [
  {
   "cell_type": "markdown",
   "metadata": {},
   "source": [
    "# Assignment 2 - Monte Carlo\n",
    "\n",
    "In this assignment, you will develop a model of experimental outcomes which you will use to interpret the results of an experiment.\n",
    "\n",
    "In each part of this assignment, you will be asked to write some code in the cell indicated.  If you find it convenient to break your code up over multiple cells, please do so.  You will also be asked to briefly discuss your code and results obtained in a text cell.\n",
    "\n",
    "You should use numpy and scipy libraries where appropriate. You will always be told explicitly if you should **not** use a particular library.  Make sure to comment your code.  Make sure all cells run from a freshly opened notebook before you submit your work."
   ]
  },
  {
   "cell_type": "markdown",
   "metadata": {},
   "source": [
    "## Part 1 - Generating a Gaussian Distribution\n",
    "\n",
    "In this part of the assignment, we will explore a method for generating random numbesr with a Gaussian probability distribution function.\n",
    "\n",
    "$$ f(x|\\mu) = \\frac{1}{\\lambda \\sqrt{2 \\pi}}e^\\frac{-(x-\\mu)^2}{2\\lambda^2}$$\n",
    "\n",
    "Unfortunately the Gaussian cumulative distribution function is not analytically invertible. However, there are a number of alternative transformations in use. One such example is the Box-Muller transformation, which relies on generating _two_ random numbers, $u$ and $v$, each in the range $(0,1)$. It can then be shown that :\n",
    "\n",
    "$$z = \\sqrt{-2\\ln{u}} \\cos{2 \\pi v}$$\n",
    "\n",
    "has a Gaussian distribution with mean $\\mu=0$ and standard deviation $\\lambda=1$.\n",
    "\n",
    "You should implement a function that will generate random values, distributed according to a Gaussian with user-definable mean $\\mu$ and standard deviation $\\lambda$ (ie. set via arguments).  You should verify that your function does indeed produce a Gaussian distribution for a selection of $\\mu$ and $\\lambda$."
   ]
  },
  {
   "cell_type": "code",
   "execution_count": 14,
   "metadata": {
    "scrolled": true
   },
   "outputs": [
    {
     "name": "stdout",
     "output_type": "stream",
     "text": [
      "Enter the mean \n",
      "4.8\n",
      "Enter the std \n",
      "0.5\n"
     ]
    },
    {
     "data": {
      "image/png": "[encoded data removed]",
      "text/plain": [
       "<Figure size 432x288 with 1 Axes>"
      ]
     },
     "metadata": {
      "needs_background": "light"
     },
     "output_type": "display_data"
    },
    {
     "data": {
      "image/png": "[encoded data removed]",
      "text/plain": [
       "<Figure size 432x288 with 1 Axes>"
      ]
     },
     "metadata": {
      "needs_background": "light"
     },
     "output_type": "display_data"
    },
    {
     "name": "stdout",
     "output_type": "stream",
     "text": [
      "Box-Muller: residual mean = 6.58e-02, std dev = 3.24e-01\n"
     ]
    }
   ],
   "source": [
    "import numpy.random as random\n",
    "import matplotlib.pyplot as plt\n",
    "import numpy as np\n",
    "import scipy.stats as stats\n",
    "\n",
    "#Asks for user inputs\n",
    "m_input = input(\"Enter the mean \\n\")\n",
    "s_input = input(\"Enter the std \\n\")\n",
    "\n",
    "#Converts to float values\n",
    "m = float(m_input)\n",
    "s = float(s_input)\n",
    "#Validates standard deviation\n",
    "while s <= 0:\n",
    "    print(\"Invalid deviation\")\n",
    "    s_input = input(\"Please enter a std which is greater than 0 \\n\")\n",
    "    s = float(s_input)\n",
    "\n",
    "#Box muller function\n",
    "def BoxMullerAR(mean,standarddeviation):\n",
    "    u = random.random()\n",
    "    v = random.random()\n",
    "    z = np.sqrt(-2 * np.log(u)) * np.cos(2*np.pi*v)\n",
    "    return z*standarddeviation + mean\n",
    "\n",
    "#Gauss plot reference\n",
    "def gauss(x,m,s):\n",
    "    return 1/(s*np.sqrt(2*np.pi)) * np.exp(-(x-m)**2/(2*s**2))\n",
    "\n",
    "\n",
    "#Plots box muller for a range of random values\n",
    "BMvalues = [BoxMullerAR(m,s) for _ in range(50000)]\n",
    "boxhist, boxbins, boxpatches = plt.hist(BMvalues, bins=50, density=True, label=\"Box-Muller\")\n",
    "\n",
    "#Bin centres are found and used for gaussian plot\n",
    "bin_centres = (boxbins[1:] + boxbins[:-1])/2\n",
    "plt.plot(bin_centres, gauss(bin_centres,m,s) , label=\"Gaussian fit\")\n",
    "\n",
    "plt.xlabel(r'z')\n",
    "plt.ylabel(r'amount')\n",
    "plt.legend()\n",
    "plt.show()\n",
    "\n",
    "#Plot residuals\n",
    "res = boxhist/gauss(bin_centres,m,s) - 1\n",
    "histres, binres, patchres = plt.hist(res, bins=15, label=\"analytic\")\n",
    "plt.show()\n",
    "\n",
    "print(\"Box-Muller: residual mean = {0:.2e}, std dev = {1:.2e}\".format(np.mean(res), np.std(res)))\n"
   ]
  },
  {
   "cell_type": "markdown",
   "metadata": {},
   "source": [
    "**Discuss your results in this cell**"
   ]
  },
  {
   "cell_type": "markdown",
   "metadata": {},
   "source": [
    "## Part 2 - Upper Limit in a Counting Experiment\n",
    "\n",
    "A \"counting experiment\" is performed at a collider, to search for the existence of a hypothesised new particle.  The experiment consists of counting the number of events that meet certain criteria. Events can be produced either by the hypothetical signal process, or by known background processes. However, an individual event cannot be ascribed to be signal or background - the only measurable quantity is the _total_ number of events.\n",
    "\n",
    "Both signal and background processes produce a number of events that is Poisson distributed. The mean number of background events has been estimated to be $4.8 \\pm 0.5$.  The mean number of signal events is given by $L \\sigma$, where the integrated luminosity $L=10 \\pm 0.3 {\\rm nb}^{-1}$, and $\\sigma$ is the (unknown) cross section of the signal process. The number of events observed in the real experiment is 6.\n",
    "\n",
    "You should write a Monte Carlo programme that will calculate an upper limit on the signal cross section, that is compatible with the observation at 95% confidence level.  In order to do this you will need to :\n",
    "* build a model of the experiment and its uncertainties that you can use to generate pseudo-experiments\n",
    "* model signal and background as separate Poisson processes\n",
    "* model all other uncertainties as Gaussian distributed\n",
    "* scan hypotheses for $\\sigma$ and generate probability distributions for the observed event counts for each hypothesis\n",
    "* compare the PDFs of observed event counts, with the real experiment, to find the upper limit on $\\sigma$\n",
    "\n",
    "An upper limit is a one-sided confidence interval, since the lower bound is always zero.  It differs from a two-sided confidence interval, where an equal fraction of pseudo experiments are found above and below the interval.  The upper limit can be defined as the value of $\\sigma$ for which 95% of pseudo-experiments give a result greater than that observed in the real experiment.\n",
    "\n",
    "First use your model to calculate the upper limit on $\\sigma$ that can be inferred from the real experiment, in which 6 events were observed.\n",
    "\n",
    "Next, consider that a theoretical prediction gives $\\sigma = 0.1 {\\rm nb}$.  What integrated luminosity would need to be accumulated in order to probe this cross-section at the 95% confidence level?  Assume the mean background scales linearly with luminosity.  You should also calculate an \"expected upper limit\", which is the limit obtained if the number of observed events equals the mean background.  Perform the calculation for two different assumptions about the uncertainties : \n",
    "1. a conservative assumption that the relative uncertainty is fixed (as given above)\n",
    "2. an optimistic assumption that the relative uncertainty will scale proportional to $L^{-1/2}$"
   ]
  },
  {
   "cell_type": "code",
   "execution_count": 58,
   "metadata": {},
   "outputs": [
    {
     "data": {
      "image/png": "[encoded data removed]",
      "text/plain": [
       "<Figure size 432x288 with 1 Axes>"
      ]
     },
     "metadata": {
      "needs_background": "light"
     },
     "output_type": "display_data"
    }
   ],
   "source": [
    "\n",
    "#Produces a poisson distribution from a given sigma\n",
    "def TotalCount(sigma):\n",
    "\n",
    "    backgroundmean = np.random.normal(4.8,0.5)\n",
    "    backgroundvalue = np.random.poisson(backgroundmean)\n",
    "\n",
    "    signalmean = np.random.normal(10,0.3) * sigma\n",
    "    signalvalue = np.random.poisson(signalmean)\n",
    "\n",
    "    total = signalvalue + backgroundvalue\n",
    "    \n",
    "    return total\n",
    "\n",
    "Tvalues = [TotalCount(1) for _ in range(10000)]\n",
    "Thist, Tbins, boxpatches = plt.hist(Tvalues, bins=30, range=[0,30.0] , density=True)\n",
    "plt.show()\n",
    "\n",
    "# fraction of a histogram above a given value\n",
    "def fAbove(hist, bins, x0):\n",
    "    i = np.searchsorted(bins, x0)\n",
    "    return np.sum(hist[i::1])\n",
    "\n",
    "# fraction of a histogram below a given value x0\n",
    "def fBelow(hist, bins, x0):\n",
    "    i = np.searchsorted(bins, x0)\n",
    "    return np.sum(hist[:i:1])\n",
    "\n",
    "# find value of f_below that matches alpha and return array index\n",
    "def thetaLow(f_aboves, alpha):\n",
    "    \n",
    "    # np.searchsorted will find the position where a value should be inserted to preserve the order\n",
    "    # add one gives the first bin which is greater than alpha\n",
    "    i = np.searchsorted(f_aboves, alpha)\n",
    "    return i\n",
    "\n",
    "# find value of f_above that matches alpha and return array index\n",
    "def thetaHigh(f_belows, alpha):\n",
    "    \n",
    "    # searchsorted expects an array in ascending order\n",
    "    tmp = np.sort(f_belows)\n",
    "    \n",
    "    # now we can do the same as before\n",
    "    i = np.searchsorted(tmp, alpha)\n",
    "    \n",
    "    # but return the correct index of the original array\n",
    "    return len(tmp)-i\n",
    "\n",
    "\n",
    "\n",
    "\n"
   ]
  },
  {
   "cell_type": "markdown",
   "metadata": {},
   "source": [
    "**Discuss your results in this cell**"
   ]
  },
  {
   "cell_type": "code",
   "execution_count": null,
   "metadata": {},
   "outputs": [],
   "source": []
  }
 ],
 "metadata": {
  "kernelspec": {
   "display_name": "Python 3",
   "language": "python",
   "name": "python3"
  },
  "language_info": {
   "codemirror_mode": {
    "name": "ipython",
    "version": 3
   },
   "file_extension": ".py",
   "mimetype": "text/x-python",
   "name": "python",
   "nbconvert_exporter": "python",
   "pygments_lexer": "ipython3",
   "version": "3.7.4"
  }
 },
 "nbformat": 4,
 "nbformat_minor": 2
}
